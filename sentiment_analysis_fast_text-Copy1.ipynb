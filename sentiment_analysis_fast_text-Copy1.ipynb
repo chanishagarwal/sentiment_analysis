{
 "cells": [
  {
   "cell_type": "code",
   "execution_count": 1,
   "metadata": {},
   "outputs": [],
   "source": [
    "import numpy as np\n",
    "import matplotlib.pyplot as plt\n",
    "import seaborn as sns\n",
    "\n",
    "%matplotlib inline\n",
    "%reload_ext autoreload\n",
    "%autoreload 2"
   ]
  },
  {
   "cell_type": "code",
   "execution_count": 2,
   "metadata": {},
   "outputs": [],
   "source": [
    "import pandas as pd\n",
    "import numpy as np\n",
    "from sklearn.cluster import MiniBatchKMeans\n",
    "from sklearn.feature_extraction.text import TfidfVectorizer\n",
    "from sklearn.decomposition import PCA\n",
    "import matplotlib.pyplot as plt"
   ]
  },
  {
   "cell_type": "code",
   "execution_count": 3,
   "metadata": {},
   "outputs": [],
   "source": [
    "import gensim"
   ]
  },
  {
   "cell_type": "code",
   "execution_count": 4,
   "metadata": {},
   "outputs": [],
   "source": [
    "df = pd.read_csv('dataset/train_file.csv')\n"
   ]
  },
  {
   "cell_type": "code",
   "execution_count": 5,
   "metadata": {},
   "outputs": [
    {
     "data": {
      "text/html": [
       "<div>\n",
       "<style scoped>\n",
       "    .dataframe tbody tr th:only-of-type {\n",
       "        vertical-align: middle;\n",
       "    }\n",
       "\n",
       "    .dataframe tbody tr th {\n",
       "        vertical-align: top;\n",
       "    }\n",
       "\n",
       "    .dataframe thead th {\n",
       "        text-align: right;\n",
       "    }\n",
       "</style>\n",
       "<table border=\"1\" class=\"dataframe\">\n",
       "  <thead>\n",
       "    <tr style=\"text-align: right;\">\n",
       "      <th></th>\n",
       "      <th>IDLink</th>\n",
       "      <th>Title</th>\n",
       "      <th>Headline</th>\n",
       "      <th>Source</th>\n",
       "      <th>Topic</th>\n",
       "      <th>PublishDate</th>\n",
       "      <th>Facebook</th>\n",
       "      <th>GooglePlus</th>\n",
       "      <th>LinkedIn</th>\n",
       "      <th>SentimentTitle</th>\n",
       "      <th>SentimentHeadline</th>\n",
       "    </tr>\n",
       "  </thead>\n",
       "  <tbody>\n",
       "    <tr>\n",
       "      <th>0</th>\n",
       "      <td>Tr3CMgRv1N</td>\n",
       "      <td>Obama Lays Wreath at Arlington National Cemetery</td>\n",
       "      <td>Obama Lays Wreath at Arlington National Cemete...</td>\n",
       "      <td>USA TODAY</td>\n",
       "      <td>obama</td>\n",
       "      <td>2002-04-02 00:00:00</td>\n",
       "      <td>-1</td>\n",
       "      <td>-1</td>\n",
       "      <td>-1</td>\n",
       "      <td>0.000000</td>\n",
       "      <td>-0.053300</td>\n",
       "    </tr>\n",
       "    <tr>\n",
       "      <th>1</th>\n",
       "      <td>Wc81vGp8qZ</td>\n",
       "      <td>A Look at the Health of the Chinese Economy</td>\n",
       "      <td>Tim Haywood, investment director business-unit...</td>\n",
       "      <td>Bloomberg</td>\n",
       "      <td>economy</td>\n",
       "      <td>2008-09-20 00:00:00</td>\n",
       "      <td>-1</td>\n",
       "      <td>-1</td>\n",
       "      <td>-1</td>\n",
       "      <td>0.208333</td>\n",
       "      <td>-0.156386</td>\n",
       "    </tr>\n",
       "  </tbody>\n",
       "</table>\n",
       "</div>"
      ],
      "text/plain": [
       "       IDLink                                             Title  \\\n",
       "0  Tr3CMgRv1N  Obama Lays Wreath at Arlington National Cemetery   \n",
       "1  Wc81vGp8qZ       A Look at the Health of the Chinese Economy   \n",
       "\n",
       "                                            Headline     Source    Topic  \\\n",
       "0  Obama Lays Wreath at Arlington National Cemete...  USA TODAY    obama   \n",
       "1  Tim Haywood, investment director business-unit...  Bloomberg  economy   \n",
       "\n",
       "           PublishDate  Facebook  GooglePlus  LinkedIn  SentimentTitle  \\\n",
       "0  2002-04-02 00:00:00        -1          -1        -1        0.000000   \n",
       "1  2008-09-20 00:00:00        -1          -1        -1        0.208333   \n",
       "\n",
       "   SentimentHeadline  \n",
       "0          -0.053300  \n",
       "1          -0.156386  "
      ]
     },
     "execution_count": 5,
     "metadata": {},
     "output_type": "execute_result"
    }
   ],
   "source": [
    "df.head(2)"
   ]
  },
  {
   "cell_type": "code",
   "execution_count": 6,
   "metadata": {},
   "outputs": [
    {
     "data": {
      "text/plain": [
       "4753"
      ]
     },
     "execution_count": 6,
     "metadata": {},
     "output_type": "execute_result"
    }
   ],
   "source": [
    "df['Source'].nunique()"
   ]
  },
  {
   "cell_type": "code",
   "execution_count": 7,
   "metadata": {},
   "outputs": [],
   "source": [
    "df.dropna(subset=['IDLink'],inplace=True)"
   ]
  },
  {
   "cell_type": "code",
   "execution_count": 8,
   "metadata": {},
   "outputs": [
    {
     "data": {
      "text/plain": [
       "IDLink               55932\n",
       "Title                55932\n",
       "Headline             55932\n",
       "Source               55757\n",
       "Topic                55932\n",
       "PublishDate          55932\n",
       "Facebook             55932\n",
       "GooglePlus           55932\n",
       "LinkedIn             55932\n",
       "SentimentTitle       55932\n",
       "SentimentHeadline    55932\n",
       "dtype: int64"
      ]
     },
     "execution_count": 8,
     "metadata": {},
     "output_type": "execute_result"
    }
   ],
   "source": [
    "df.count()"
   ]
  },
  {
   "cell_type": "markdown",
   "metadata": {},
   "source": [
    "## preprocessing data"
   ]
  },
  {
   "cell_type": "code",
   "execution_count": 9,
   "metadata": {},
   "outputs": [],
   "source": [
    "df1 = df"
   ]
  },
  {
   "cell_type": "code",
   "execution_count": 10,
   "metadata": {},
   "outputs": [],
   "source": [
    "import string\n",
    "from gensim.parsing.preprocessing import remove_stopwords\n",
    "\n",
    "def remove_punctuation(input_str):\n",
    "    punctuation_free = \"\".join(i for i in input_str if i not in string.punctuation)\n",
    "    return punctuation_free\n"
   ]
  },
  {
   "cell_type": "code",
   "execution_count": 11,
   "metadata": {},
   "outputs": [],
   "source": [
    "from nltk.stem import WordNetLemmatizer\n",
    "#defining the object for Lemmatization\n",
    "wordnet_lemmatizer = WordNetLemmatizer()\n",
    "#defining the function for lemmatization\n",
    "def lemmatizer(text):\n",
    "    lemm_text = [wordnet_lemmatizer.lemmatize(word) for word in text]\n",
    "    return lemm_text\n"
   ]
  },
  {
   "cell_type": "code",
   "execution_count": 12,
   "metadata": {},
   "outputs": [],
   "source": [
    "import nltk"
   ]
  },
  {
   "cell_type": "code",
   "execution_count": 13,
   "metadata": {},
   "outputs": [
    {
     "name": "stderr",
     "output_type": "stream",
     "text": [
      "[nltk_data] Downloading package wordnet to\n",
      "[nltk_data]     /Users/b0206395/nltk_data...\n",
      "[nltk_data]   Package wordnet is already up-to-date!\n"
     ]
    },
    {
     "data": {
      "text/plain": [
       "True"
      ]
     },
     "execution_count": 13,
     "metadata": {},
     "output_type": "execute_result"
    }
   ],
   "source": [
    "nltk.download('wordnet')"
   ]
  },
  {
   "cell_type": "code",
   "execution_count": 14,
   "metadata": {},
   "outputs": [],
   "source": [
    "def pre_process_data(input_str):\n",
    "    input_str = remove_punctuation(input_str)\n",
    "    input_str = remove_stopwords(input_str)\n",
    "    input_str = gensim.utils.simple_preprocess(input_str)\n",
    "    input_str = lemmatizer(input_str)\n",
    "    return input_str\n",
    "\n",
    "def feature_importance(df,model):\n",
    "    columns = df.columns\n",
    "\n",
    "    model.feature_importances_\n",
    "\n",
    "    return dict(zip(columns,model.feature_importances_))"
   ]
  },
  {
   "cell_type": "code",
   "execution_count": null,
   "metadata": {},
   "outputs": [],
   "source": []
  },
  {
   "cell_type": "code",
   "execution_count": null,
   "metadata": {},
   "outputs": [],
   "source": [
    "# df1['all_text'] = df1['Title']+df1['Headline']\n",
    "\n",
    "# df1['all_text_processed'] = df1['all_text'].apply(lambda x: pre_process_data(x))\n",
    "\n",
    "# df1.head(2)"
   ]
  },
  {
   "cell_type": "markdown",
   "metadata": {},
   "source": [
    "# build model"
   ]
  },
  {
   "cell_type": "code",
   "execution_count": null,
   "metadata": {},
   "outputs": [],
   "source": [
    "df1['title_text'] = df1['Title'].apply(lambda x: pre_process_data(x))\n",
    "df1['headline_text'] = df1['Headline'].apply(lambda x: pre_process_data(x))"
   ]
  },
  {
   "cell_type": "code",
   "execution_count": null,
   "metadata": {},
   "outputs": [],
   "source": [
    "template_text1 = df1.title_text\n",
    "template_text2 = df1.headline_text\n",
    "\n",
    "template_text = template_text1.append(template_text2)"
   ]
  },
  {
   "cell_type": "code",
   "execution_count": null,
   "metadata": {},
   "outputs": [],
   "source": [
    "len(template_text)"
   ]
  },
  {
   "cell_type": "code",
   "execution_count": null,
   "metadata": {},
   "outputs": [],
   "source": [
    "template_text"
   ]
  },
  {
   "cell_type": "code",
   "execution_count": null,
   "metadata": {},
   "outputs": [],
   "source": [
    "df1.shape"
   ]
  },
  {
   "cell_type": "code",
   "execution_count": null,
   "metadata": {},
   "outputs": [],
   "source": [
    "from gensim.models import FastText\n",
    "\n",
    "model = FastText(window=5, \n",
    "                min_count=5,\n",
    "                workers=4,\n",
    "                )\n",
    "\n",
    "# build vocab first\n",
    "model.build_vocab(template_text, progress_per=100)\n",
    "\n",
    "model.epochs\n",
    "\n",
    "model.train(template_text,total_examples=model.corpus_count,epochs=model.epochs)\n",
    "\n",
    "model.save(\"word2_vec_fast_text.model\")"
   ]
  },
  {
   "cell_type": "code",
   "execution_count": null,
   "metadata": {},
   "outputs": [],
   "source": [
    "model.wv.most_similar(\"obama\")"
   ]
  },
  {
   "cell_type": "code",
   "execution_count": null,
   "metadata": {},
   "outputs": [],
   "source": [
    "model.wv.most_similar('govt')"
   ]
  },
  {
   "cell_type": "code",
   "execution_count": null,
   "metadata": {},
   "outputs": [],
   "source": [
    "model.wv.get_vector('member')"
   ]
  },
  {
   "cell_type": "markdown",
   "metadata": {},
   "source": [
    "# Load model"
   ]
  },
  {
   "cell_type": "code",
   "execution_count": 15,
   "metadata": {},
   "outputs": [],
   "source": [
    "from gensim.models import Word2Vec\n",
    "\n",
    "model = Word2Vec.load(\"word2_vec_fast_text.model\")"
   ]
  },
  {
   "cell_type": "code",
   "execution_count": 16,
   "metadata": {},
   "outputs": [],
   "source": [
    "def sentence_embedding(sentence,model=model):\n",
    "    word_list = pre_process_data(sentence)\n",
    "    word_list = [each for each in word_list if each in model.wv.key_to_index]\n",
    "    sentence_vec = np.zeros((100,),dtype='float32')\n",
    "    sentence_len= len(word_list)\n",
    "    for each in word_list:\n",
    "        each_vector = model.wv.get_vector(each)\n",
    "        sentence_vec = np.add(sentence_vec,each_vector)\n",
    "    if sentence_len>0:\n",
    "        sentence_vec = sentence_vec/sentence_len\n",
    "    return sentence_vec"
   ]
  },
  {
   "cell_type": "code",
   "execution_count": 17,
   "metadata": {},
   "outputs": [],
   "source": [
    "def gen_similarity_score(sent1,sent2):\n",
    "    sent1_embedding = sentence_embedding(sent1)\n",
    "    sent2_embedding = sentence_embedding(sent2)\n",
    "    return 1- spatial.distance.cosine(sent1_embedding,sent2_embedding)"
   ]
  },
  {
   "cell_type": "markdown",
   "metadata": {},
   "source": [
    "## creating text embedding for title and headline text"
   ]
  },
  {
   "cell_type": "code",
   "execution_count": 18,
   "metadata": {},
   "outputs": [],
   "source": [
    "df1['title_embedding']  = df1.apply(lambda x: sentence_embedding(x['Title']),axis=1)\n",
    "\n",
    "df1['headline_embedding']  = df1.apply(lambda x: sentence_embedding(x['Headline']),axis=1)"
   ]
  },
  {
   "cell_type": "markdown",
   "metadata": {},
   "source": [
    "## categorical encoding"
   ]
  },
  {
   "cell_type": "code",
   "execution_count": 19,
   "metadata": {},
   "outputs": [],
   "source": [
    "df1 = pd.get_dummies(data=df1,columns=['Topic'])"
   ]
  },
  {
   "cell_type": "code",
   "execution_count": 20,
   "metadata": {},
   "outputs": [
    {
     "data": {
      "text/plain": [
       "Index(['IDLink', 'Title', 'Headline', 'Source', 'PublishDate', 'Facebook',\n",
       "       'GooglePlus', 'LinkedIn', 'SentimentTitle', 'SentimentHeadline',\n",
       "       'title_embedding', 'headline_embedding', 'Topic_economy',\n",
       "       'Topic_microsoft', 'Topic_obama', 'Topic_palestine'],\n",
       "      dtype='object')"
      ]
     },
     "execution_count": 20,
     "metadata": {},
     "output_type": "execute_result"
    }
   ],
   "source": [
    "df1.columns"
   ]
  },
  {
   "cell_type": "code",
   "execution_count": 21,
   "metadata": {},
   "outputs": [],
   "source": [
    "# TODO: use publish date to identify age of news in days/week/months."
   ]
  },
  {
   "cell_type": "code",
   "execution_count": 22,
   "metadata": {},
   "outputs": [],
   "source": [
    "title_columns = ['t'+str(i) for i in range(1,101)]\n",
    "headline_columns = ['h'+str(i) for i in range(1,101)]"
   ]
  },
  {
   "cell_type": "code",
   "execution_count": 23,
   "metadata": {},
   "outputs": [],
   "source": [
    "title_dataframe = pd.DataFrame(df1['title_embedding'].to_list(), columns = title_columns)\n",
    "headline_dataframe = pd.DataFrame(df1['headline_embedding'].to_list(), columns = headline_columns)"
   ]
  },
  {
   "cell_type": "code",
   "execution_count": 24,
   "metadata": {},
   "outputs": [
    {
     "data": {
      "text/html": [
       "<div>\n",
       "<style scoped>\n",
       "    .dataframe tbody tr th:only-of-type {\n",
       "        vertical-align: middle;\n",
       "    }\n",
       "\n",
       "    .dataframe tbody tr th {\n",
       "        vertical-align: top;\n",
       "    }\n",
       "\n",
       "    .dataframe thead th {\n",
       "        text-align: right;\n",
       "    }\n",
       "</style>\n",
       "<table border=\"1\" class=\"dataframe\">\n",
       "  <thead>\n",
       "    <tr style=\"text-align: right;\">\n",
       "      <th></th>\n",
       "      <th>t1</th>\n",
       "      <th>t2</th>\n",
       "      <th>t3</th>\n",
       "      <th>t4</th>\n",
       "      <th>t5</th>\n",
       "      <th>t6</th>\n",
       "      <th>t7</th>\n",
       "      <th>t8</th>\n",
       "      <th>t9</th>\n",
       "      <th>t10</th>\n",
       "      <th>...</th>\n",
       "      <th>t91</th>\n",
       "      <th>t92</th>\n",
       "      <th>t93</th>\n",
       "      <th>t94</th>\n",
       "      <th>t95</th>\n",
       "      <th>t96</th>\n",
       "      <th>t97</th>\n",
       "      <th>t98</th>\n",
       "      <th>t99</th>\n",
       "      <th>t100</th>\n",
       "    </tr>\n",
       "  </thead>\n",
       "  <tbody>\n",
       "    <tr>\n",
       "      <th>0</th>\n",
       "      <td>-0.259122</td>\n",
       "      <td>0.743215</td>\n",
       "      <td>-0.608792</td>\n",
       "      <td>0.250443</td>\n",
       "      <td>0.175426</td>\n",
       "      <td>-0.074218</td>\n",
       "      <td>0.7744</td>\n",
       "      <td>0.128739</td>\n",
       "      <td>1.030575</td>\n",
       "      <td>-1.091983</td>\n",
       "      <td>...</td>\n",
       "      <td>-0.452373</td>\n",
       "      <td>-0.051135</td>\n",
       "      <td>0.230236</td>\n",
       "      <td>0.180493</td>\n",
       "      <td>-0.088765</td>\n",
       "      <td>0.78054</td>\n",
       "      <td>0.476393</td>\n",
       "      <td>-0.464559</td>\n",
       "      <td>0.16577</td>\n",
       "      <td>0.35524</td>\n",
       "    </tr>\n",
       "  </tbody>\n",
       "</table>\n",
       "<p>1 rows × 100 columns</p>\n",
       "</div>"
      ],
      "text/plain": [
       "         t1        t2        t3        t4        t5        t6      t7  \\\n",
       "0 -0.259122  0.743215 -0.608792  0.250443  0.175426 -0.074218  0.7744   \n",
       "\n",
       "         t8        t9       t10  ...       t91       t92       t93       t94  \\\n",
       "0  0.128739  1.030575 -1.091983  ... -0.452373 -0.051135  0.230236  0.180493   \n",
       "\n",
       "        t95      t96       t97       t98      t99     t100  \n",
       "0 -0.088765  0.78054  0.476393 -0.464559  0.16577  0.35524  \n",
       "\n",
       "[1 rows x 100 columns]"
      ]
     },
     "execution_count": 24,
     "metadata": {},
     "output_type": "execute_result"
    }
   ],
   "source": [
    "title_dataframe.head(1)"
   ]
  },
  {
   "cell_type": "code",
   "execution_count": 25,
   "metadata": {},
   "outputs": [
    {
     "data": {
      "text/html": [
       "<div>\n",
       "<style scoped>\n",
       "    .dataframe tbody tr th:only-of-type {\n",
       "        vertical-align: middle;\n",
       "    }\n",
       "\n",
       "    .dataframe tbody tr th {\n",
       "        vertical-align: top;\n",
       "    }\n",
       "\n",
       "    .dataframe thead th {\n",
       "        text-align: right;\n",
       "    }\n",
       "</style>\n",
       "<table border=\"1\" class=\"dataframe\">\n",
       "  <thead>\n",
       "    <tr style=\"text-align: right;\">\n",
       "      <th></th>\n",
       "      <th>h1</th>\n",
       "      <th>h2</th>\n",
       "      <th>h3</th>\n",
       "      <th>h4</th>\n",
       "      <th>h5</th>\n",
       "      <th>h6</th>\n",
       "      <th>h7</th>\n",
       "      <th>h8</th>\n",
       "      <th>h9</th>\n",
       "      <th>h10</th>\n",
       "      <th>...</th>\n",
       "      <th>h91</th>\n",
       "      <th>h92</th>\n",
       "      <th>h93</th>\n",
       "      <th>h94</th>\n",
       "      <th>h95</th>\n",
       "      <th>h96</th>\n",
       "      <th>h97</th>\n",
       "      <th>h98</th>\n",
       "      <th>h99</th>\n",
       "      <th>h100</th>\n",
       "    </tr>\n",
       "  </thead>\n",
       "  <tbody>\n",
       "    <tr>\n",
       "      <th>0</th>\n",
       "      <td>-0.071621</td>\n",
       "      <td>0.583369</td>\n",
       "      <td>-0.637146</td>\n",
       "      <td>0.084336</td>\n",
       "      <td>0.115242</td>\n",
       "      <td>0.055463</td>\n",
       "      <td>0.515422</td>\n",
       "      <td>-0.00683</td>\n",
       "      <td>0.851999</td>\n",
       "      <td>-0.84087</td>\n",
       "      <td>...</td>\n",
       "      <td>-0.565439</td>\n",
       "      <td>-0.141013</td>\n",
       "      <td>-0.133866</td>\n",
       "      <td>0.20046</td>\n",
       "      <td>-0.45326</td>\n",
       "      <td>1.006475</td>\n",
       "      <td>0.572488</td>\n",
       "      <td>-0.646297</td>\n",
       "      <td>0.4838</td>\n",
       "      <td>0.750966</td>\n",
       "    </tr>\n",
       "  </tbody>\n",
       "</table>\n",
       "<p>1 rows × 100 columns</p>\n",
       "</div>"
      ],
      "text/plain": [
       "         h1        h2        h3        h4        h5        h6        h7  \\\n",
       "0 -0.071621  0.583369 -0.637146  0.084336  0.115242  0.055463  0.515422   \n",
       "\n",
       "        h8        h9      h10  ...       h91       h92       h93      h94  \\\n",
       "0 -0.00683  0.851999 -0.84087  ... -0.565439 -0.141013 -0.133866  0.20046   \n",
       "\n",
       "       h95       h96       h97       h98     h99      h100  \n",
       "0 -0.45326  1.006475  0.572488 -0.646297  0.4838  0.750966  \n",
       "\n",
       "[1 rows x 100 columns]"
      ]
     },
     "execution_count": 25,
     "metadata": {},
     "output_type": "execute_result"
    }
   ],
   "source": [
    "headline_dataframe.head(1)"
   ]
  },
  {
   "cell_type": "code",
   "execution_count": 26,
   "metadata": {},
   "outputs": [],
   "source": [
    "df_sentiment_title = pd.concat([df1[['IDLink','Facebook','GooglePlus',\n",
    "                                     'LinkedIn','Topic_economy', 'Topic_microsoft', \n",
    "                                     'Topic_obama','Topic_palestine','SentimentTitle']], title_dataframe], axis=1)"
   ]
  },
  {
   "cell_type": "code",
   "execution_count": 27,
   "metadata": {},
   "outputs": [],
   "source": [
    "df_sentiment_headline = pd.concat([df1[['IDLink','Facebook','GooglePlus',\n",
    "                                        'LinkedIn','Topic_economy', 'Topic_microsoft',\n",
    "                                        'Topic_obama','Topic_palestine',\n",
    "                                        'SentimentHeadline']], headline_dataframe], axis=1)"
   ]
  },
  {
   "cell_type": "code",
   "execution_count": 28,
   "metadata": {},
   "outputs": [
    {
     "data": {
      "text/plain": [
       "Index(['IDLink', 'Facebook', 'GooglePlus', 'LinkedIn', 'Topic_economy',\n",
       "       'Topic_microsoft', 'Topic_obama', 'Topic_palestine', 'SentimentTitle',\n",
       "       't1',\n",
       "       ...\n",
       "       't91', 't92', 't93', 't94', 't95', 't96', 't97', 't98', 't99', 't100'],\n",
       "      dtype='object', length=109)"
      ]
     },
     "execution_count": 28,
     "metadata": {},
     "output_type": "execute_result"
    }
   ],
   "source": [
    "df_sentiment_title.columns"
   ]
  },
  {
   "cell_type": "code",
   "execution_count": 29,
   "metadata": {},
   "outputs": [
    {
     "data": {
      "text/plain": [
       "Index(['IDLink', 'Facebook', 'GooglePlus', 'LinkedIn', 'Topic_economy',\n",
       "       'Topic_microsoft', 'Topic_obama', 'Topic_palestine',\n",
       "       'SentimentHeadline', 'h1',\n",
       "       ...\n",
       "       'h91', 'h92', 'h93', 'h94', 'h95', 'h96', 'h97', 'h98', 'h99', 'h100'],\n",
       "      dtype='object', length=109)"
      ]
     },
     "execution_count": 29,
     "metadata": {},
     "output_type": "execute_result"
    }
   ],
   "source": [
    "df_sentiment_headline.columns"
   ]
  },
  {
   "cell_type": "code",
   "execution_count": null,
   "metadata": {},
   "outputs": [],
   "source": []
  },
  {
   "cell_type": "markdown",
   "metadata": {},
   "source": [
    "\n",
    "# Regression model building"
   ]
  },
  {
   "cell_type": "markdown",
   "metadata": {},
   "source": [
    "### Sentiment Title"
   ]
  },
  {
   "cell_type": "code",
   "execution_count": 79,
   "metadata": {},
   "outputs": [],
   "source": [
    "id_var = ['IDLink','SentimentTitle','SentimentHeadline']"
   ]
  },
  {
   "cell_type": "code",
   "execution_count": 80,
   "metadata": {},
   "outputs": [],
   "source": [
    "model_title_columns = list(set(list(df_sentiment_title.columns)) - set(id_var))"
   ]
  },
  {
   "cell_type": "code",
   "execution_count": 81,
   "metadata": {},
   "outputs": [],
   "source": [
    "columns_to_scale = model_title_columns\n",
    "\n",
    "from sklearn.preprocessing import MinMaxScaler\n",
    "scaler = MinMaxScaler()\n",
    "\n",
    "df_sentiment_title[columns_to_scale] = scaler.fit_transform(df_sentiment_title[columns_to_scale])"
   ]
  },
  {
   "cell_type": "code",
   "execution_count": 52,
   "metadata": {},
   "outputs": [],
   "source": [
    "Y = df_sentiment_title['SentimentTitle']\n",
    "X = df_sentiment_title.copy()\n",
    "X.drop('SentimentTitle',inplace=True,axis=1)\n",
    "X.drop('IDLink',inplace=True,axis=1)"
   ]
  },
  {
   "cell_type": "code",
   "execution_count": 53,
   "metadata": {},
   "outputs": [],
   "source": [
    "from sklearn.model_selection import train_test_split\n",
    "X_train, X_test, Y_train, Y_test = train_test_split(X,Y,test_size=0.2,random_state=23)"
   ]
  },
  {
   "cell_type": "code",
   "execution_count": 54,
   "metadata": {},
   "outputs": [],
   "source": [
    "from sklearn.ensemble import RandomForestRegressor,GradientBoostingRegressor\n",
    "from sklearn.linear_model import LinearRegression\n",
    "# from sklearn.metrics import roc_auc_score,roc_curve\n",
    "# from sklearn.metrics import confusion_matrix, classification_report\n",
    "# import matplotlib.pyplot as pyplot"
   ]
  },
  {
   "cell_type": "code",
   "execution_count": 55,
   "metadata": {},
   "outputs": [
    {
     "data": {
      "text/plain": [
       "LinearRegression()"
      ]
     },
     "execution_count": 55,
     "metadata": {},
     "output_type": "execute_result"
    }
   ],
   "source": [
    "lr = LinearRegression()\n",
    "lr.fit(X_train,Y_train)"
   ]
  },
  {
   "cell_type": "code",
   "execution_count": 56,
   "metadata": {},
   "outputs": [
    {
     "data": {
      "text/plain": [
       "0.12245163119746827"
      ]
     },
     "execution_count": 56,
     "metadata": {},
     "output_type": "execute_result"
    }
   ],
   "source": [
    "lr.score(X_train,Y_train)"
   ]
  },
  {
   "cell_type": "code",
   "execution_count": 66,
   "metadata": {},
   "outputs": [],
   "source": [
    "rf = RandomForestRegressor(n_estimators=100,criterion='mse',max_features='sqrt',verbose=2)"
   ]
  },
  {
   "cell_type": "code",
   "execution_count": 67,
   "metadata": {},
   "outputs": [
    {
     "name": "stderr",
     "output_type": "stream",
     "text": [
      "[Parallel(n_jobs=1)]: Using backend SequentialBackend with 1 concurrent workers.\n"
     ]
    },
    {
     "name": "stdout",
     "output_type": "stream",
     "text": [
      "building tree 1 of 100\n"
     ]
    },
    {
     "name": "stderr",
     "output_type": "stream",
     "text": [
      "[Parallel(n_jobs=1)]: Done   1 out of   1 | elapsed:    0.6s remaining:    0.0s\n"
     ]
    },
    {
     "name": "stdout",
     "output_type": "stream",
     "text": [
      "building tree 2 of 100\n",
      "building tree 3 of 100\n",
      "building tree 4 of 100\n",
      "building tree 5 of 100\n",
      "building tree 6 of 100\n",
      "building tree 7 of 100\n",
      "building tree 8 of 100\n",
      "building tree 9 of 100\n",
      "building tree 10 of 100\n",
      "building tree 11 of 100\n",
      "building tree 12 of 100\n",
      "building tree 13 of 100\n",
      "building tree 14 of 100\n",
      "building tree 15 of 100\n",
      "building tree 16 of 100\n",
      "building tree 17 of 100\n",
      "building tree 18 of 100\n",
      "building tree 19 of 100\n",
      "building tree 20 of 100\n",
      "building tree 21 of 100\n",
      "building tree 22 of 100\n",
      "building tree 23 of 100\n",
      "building tree 24 of 100\n",
      "building tree 25 of 100\n",
      "building tree 26 of 100\n",
      "building tree 27 of 100\n",
      "building tree 28 of 100\n",
      "building tree 29 of 100\n",
      "building tree 30 of 100\n",
      "building tree 31 of 100\n",
      "building tree 32 of 100\n",
      "building tree 33 of 100\n",
      "building tree 34 of 100\n",
      "building tree 35 of 100\n",
      "building tree 36 of 100\n",
      "building tree 37 of 100\n",
      "building tree 38 of 100\n",
      "building tree 39 of 100\n",
      "building tree 40 of 100\n",
      "building tree 41 of 100\n",
      "building tree 42 of 100\n",
      "building tree 43 of 100\n",
      "building tree 44 of 100\n",
      "building tree 45 of 100\n",
      "building tree 46 of 100\n",
      "building tree 47 of 100\n",
      "building tree 48 of 100\n",
      "building tree 49 of 100\n",
      "building tree 50 of 100\n",
      "building tree 51 of 100\n",
      "building tree 52 of 100\n",
      "building tree 53 of 100\n",
      "building tree 54 of 100\n",
      "building tree 55 of 100\n",
      "building tree 56 of 100\n",
      "building tree 57 of 100\n",
      "building tree 58 of 100\n",
      "building tree 59 of 100\n",
      "building tree 60 of 100\n",
      "building tree 61 of 100\n",
      "building tree 62 of 100\n",
      "building tree 63 of 100\n",
      "building tree 64 of 100\n",
      "building tree 65 of 100\n",
      "building tree 66 of 100\n",
      "building tree 67 of 100\n",
      "building tree 68 of 100\n",
      "building tree 69 of 100\n",
      "building tree 70 of 100\n",
      "building tree 71 of 100\n",
      "building tree 72 of 100\n",
      "building tree 73 of 100\n",
      "building tree 74 of 100\n",
      "building tree 75 of 100\n",
      "building tree 76 of 100\n",
      "building tree 77 of 100\n",
      "building tree 78 of 100\n",
      "building tree 79 of 100\n",
      "building tree 80 of 100\n",
      "building tree 81 of 100\n",
      "building tree 82 of 100\n",
      "building tree 83 of 100\n",
      "building tree 84 of 100\n",
      "building tree 85 of 100\n",
      "building tree 86 of 100\n",
      "building tree 87 of 100\n",
      "building tree 88 of 100\n",
      "building tree 89 of 100\n",
      "building tree 90 of 100\n",
      "building tree 91 of 100\n",
      "building tree 92 of 100\n",
      "building tree 93 of 100\n",
      "building tree 94 of 100\n",
      "building tree 95 of 100\n",
      "building tree 96 of 100\n",
      "building tree 97 of 100\n",
      "building tree 98 of 100\n",
      "building tree 99 of 100\n",
      "building tree 100 of 100\n"
     ]
    },
    {
     "name": "stderr",
     "output_type": "stream",
     "text": [
      "[Parallel(n_jobs=1)]: Done 100 out of 100 | elapsed:   54.5s finished\n"
     ]
    },
    {
     "data": {
      "text/plain": [
       "RandomForestRegressor(max_features='sqrt', verbose=2)"
      ]
     },
     "execution_count": 67,
     "metadata": {},
     "output_type": "execute_result"
    }
   ],
   "source": [
    "rf.fit(X_train,Y_train)"
   ]
  },
  {
   "cell_type": "code",
   "execution_count": 68,
   "metadata": {},
   "outputs": [
    {
     "name": "stderr",
     "output_type": "stream",
     "text": [
      "[Parallel(n_jobs=1)]: Using backend SequentialBackend with 1 concurrent workers.\n",
      "[Parallel(n_jobs=1)]: Done   1 out of   1 | elapsed:    0.0s remaining:    0.0s\n",
      "[Parallel(n_jobs=1)]: Done 100 out of 100 | elapsed:    0.8s finished\n"
     ]
    }
   ],
   "source": [
    "y_test_predict = rf.predict(X_test)"
   ]
  },
  {
   "cell_type": "code",
   "execution_count": 69,
   "metadata": {},
   "outputs": [
    {
     "name": "stderr",
     "output_type": "stream",
     "text": [
      "[Parallel(n_jobs=1)]: Using backend SequentialBackend with 1 concurrent workers.\n",
      "[Parallel(n_jobs=1)]: Done   1 out of   1 | elapsed:    0.0s remaining:    0.0s\n",
      "[Parallel(n_jobs=1)]: Done 100 out of 100 | elapsed:    0.4s finished\n"
     ]
    },
    {
     "data": {
      "text/plain": [
       "0.3119681053163076"
      ]
     },
     "execution_count": 69,
     "metadata": {},
     "output_type": "execute_result"
    }
   ],
   "source": [
    "rf.score(X_test,Y_test)"
   ]
  },
  {
   "cell_type": "markdown",
   "metadata": {},
   "source": [
    "### Sentiment headline"
   ]
  },
  {
   "cell_type": "code",
   "execution_count": 100,
   "metadata": {},
   "outputs": [],
   "source": [
    "id_var = ['IDLink','SentimentHeadline','SentimentTitle']"
   ]
  },
  {
   "cell_type": "code",
   "execution_count": 101,
   "metadata": {},
   "outputs": [],
   "source": [
    "model_headline_columns = list(set(list(df_sentiment_headline.columns)) - set(id_var))"
   ]
  },
  {
   "cell_type": "code",
   "execution_count": 102,
   "metadata": {},
   "outputs": [],
   "source": [
    "columns_to_scale = model_headline_columns"
   ]
  },
  {
   "cell_type": "code",
   "execution_count": 103,
   "metadata": {},
   "outputs": [],
   "source": [
    "df_sentiment_headline[columns_to_scale] = scaler.fit_transform(df_sentiment_headline[columns_to_scale])"
   ]
  },
  {
   "cell_type": "code",
   "execution_count": 104,
   "metadata": {},
   "outputs": [],
   "source": [
    "Y_h = df_sentiment_headline['SentimentHeadline']\n",
    "X_h = df_sentiment_headline.copy()\n",
    "X_h.drop('SentimentHeadline',inplace=True,axis=1)\n",
    "X_h.drop('IDLink',inplace=True,axis=1)"
   ]
  },
  {
   "cell_type": "code",
   "execution_count": 105,
   "metadata": {},
   "outputs": [],
   "source": [
    "from sklearn.model_selection import train_test_split\n",
    "Xh_train, Xh_test, Yh_train, Yh_test = train_test_split(X_h,Y_h,test_size=0.2,random_state=23)"
   ]
  },
  {
   "cell_type": "code",
   "execution_count": 106,
   "metadata": {},
   "outputs": [],
   "source": [
    "from sklearn.ensemble import RandomForestRegressor,GradientBoostingRegressor\n",
    "from sklearn.linear_model import LinearRegression\n",
    "# from sklearn.metrics import roc_auc_score,roc_curve\n",
    "# from sklearn.metrics import confusion_matrix, classification_report\n",
    "# import matplotlib.pyplot as pyplot\n",
    "\n",
    "rf_headline = RandomForestRegressor(n_estimators=100,criterion='mse',max_features='sqrt',verbose=2)"
   ]
  },
  {
   "cell_type": "code",
   "execution_count": 107,
   "metadata": {
    "scrolled": true
   },
   "outputs": [
    {
     "name": "stderr",
     "output_type": "stream",
     "text": [
      "[Parallel(n_jobs=1)]: Using backend SequentialBackend with 1 concurrent workers.\n"
     ]
    },
    {
     "name": "stdout",
     "output_type": "stream",
     "text": [
      "building tree 1 of 100\n"
     ]
    },
    {
     "name": "stderr",
     "output_type": "stream",
     "text": [
      "[Parallel(n_jobs=1)]: Done   1 out of   1 | elapsed:    0.5s remaining:    0.0s\n"
     ]
    },
    {
     "name": "stdout",
     "output_type": "stream",
     "text": [
      "building tree 2 of 100\n",
      "building tree 3 of 100\n",
      "building tree 4 of 100\n",
      "building tree 5 of 100\n",
      "building tree 6 of 100\n",
      "building tree 7 of 100\n",
      "building tree 8 of 100\n",
      "building tree 9 of 100\n",
      "building tree 10 of 100\n",
      "building tree 11 of 100\n",
      "building tree 12 of 100\n",
      "building tree 13 of 100\n",
      "building tree 14 of 100\n",
      "building tree 15 of 100\n",
      "building tree 16 of 100\n",
      "building tree 17 of 100\n",
      "building tree 18 of 100\n",
      "building tree 19 of 100\n",
      "building tree 20 of 100\n",
      "building tree 21 of 100\n",
      "building tree 22 of 100\n",
      "building tree 23 of 100\n",
      "building tree 24 of 100\n",
      "building tree 25 of 100\n",
      "building tree 26 of 100\n",
      "building tree 27 of 100\n",
      "building tree 28 of 100\n",
      "building tree 29 of 100\n",
      "building tree 30 of 100\n",
      "building tree 31 of 100\n",
      "building tree 32 of 100\n",
      "building tree 33 of 100\n",
      "building tree 34 of 100\n",
      "building tree 35 of 100\n",
      "building tree 36 of 100\n",
      "building tree 37 of 100\n",
      "building tree 38 of 100\n",
      "building tree 39 of 100\n",
      "building tree 40 of 100\n",
      "building tree 41 of 100\n",
      "building tree 42 of 100\n",
      "building tree 43 of 100\n",
      "building tree 44 of 100\n",
      "building tree 45 of 100\n",
      "building tree 46 of 100\n",
      "building tree 47 of 100\n",
      "building tree 48 of 100\n",
      "building tree 49 of 100\n",
      "building tree 50 of 100\n",
      "building tree 51 of 100\n",
      "building tree 52 of 100\n",
      "building tree 53 of 100\n",
      "building tree 54 of 100\n",
      "building tree 55 of 100\n",
      "building tree 56 of 100\n",
      "building tree 57 of 100\n",
      "building tree 58 of 100\n",
      "building tree 59 of 100\n",
      "building tree 60 of 100\n",
      "building tree 61 of 100\n",
      "building tree 62 of 100\n",
      "building tree 63 of 100\n",
      "building tree 64 of 100\n",
      "building tree 65 of 100\n",
      "building tree 66 of 100\n",
      "building tree 67 of 100\n",
      "building tree 68 of 100\n",
      "building tree 69 of 100\n",
      "building tree 70 of 100\n",
      "building tree 71 of 100\n",
      "building tree 72 of 100\n",
      "building tree 73 of 100\n",
      "building tree 74 of 100\n",
      "building tree 75 of 100\n",
      "building tree 76 of 100\n",
      "building tree 77 of 100\n",
      "building tree 78 of 100\n",
      "building tree 79 of 100\n",
      "building tree 80 of 100\n",
      "building tree 81 of 100\n",
      "building tree 82 of 100\n",
      "building tree 83 of 100\n",
      "building tree 84 of 100\n",
      "building tree 85 of 100\n",
      "building tree 86 of 100\n",
      "building tree 87 of 100\n",
      "building tree 88 of 100\n",
      "building tree 89 of 100\n",
      "building tree 90 of 100\n",
      "building tree 91 of 100\n",
      "building tree 92 of 100\n",
      "building tree 93 of 100\n",
      "building tree 94 of 100\n",
      "building tree 95 of 100\n",
      "building tree 96 of 100\n",
      "building tree 97 of 100\n",
      "building tree 98 of 100\n",
      "building tree 99 of 100\n",
      "building tree 100 of 100\n"
     ]
    },
    {
     "name": "stderr",
     "output_type": "stream",
     "text": [
      "[Parallel(n_jobs=1)]: Done 100 out of 100 | elapsed:   53.3s finished\n"
     ]
    },
    {
     "data": {
      "text/plain": [
       "RandomForestRegressor(max_features='sqrt', verbose=2)"
      ]
     },
     "execution_count": 107,
     "metadata": {},
     "output_type": "execute_result"
    }
   ],
   "source": [
    "rf_headline.fit(Xh_train,Yh_train)"
   ]
  },
  {
   "cell_type": "code",
   "execution_count": 108,
   "metadata": {},
   "outputs": [
    {
     "name": "stderr",
     "output_type": "stream",
     "text": [
      "[Parallel(n_jobs=1)]: Using backend SequentialBackend with 1 concurrent workers.\n",
      "[Parallel(n_jobs=1)]: Done   1 out of   1 | elapsed:    0.0s remaining:    0.0s\n",
      "[Parallel(n_jobs=1)]: Done 100 out of 100 | elapsed:    0.6s finished\n"
     ]
    }
   ],
   "source": [
    "y_test_predict = rf_headline.predict(Xh_test)"
   ]
  },
  {
   "cell_type": "code",
   "execution_count": 109,
   "metadata": {},
   "outputs": [
    {
     "name": "stderr",
     "output_type": "stream",
     "text": [
      "[Parallel(n_jobs=1)]: Using backend SequentialBackend with 1 concurrent workers.\n",
      "[Parallel(n_jobs=1)]: Done   1 out of   1 | elapsed:    0.0s remaining:    0.0s\n",
      "[Parallel(n_jobs=1)]: Done 100 out of 100 | elapsed:    0.4s finished\n"
     ]
    },
    {
     "data": {
      "text/plain": [
       "0.20568917446203483"
      ]
     },
     "execution_count": 109,
     "metadata": {},
     "output_type": "execute_result"
    }
   ],
   "source": [
    "rf_headline.score(Xh_test,Yh_test)"
   ]
  },
  {
   "cell_type": "markdown",
   "metadata": {},
   "source": [
    "## MAE error in train test data"
   ]
  },
  {
   "cell_type": "code",
   "execution_count": null,
   "metadata": {},
   "outputs": [],
   "source": []
  },
  {
   "cell_type": "code",
   "execution_count": null,
   "metadata": {},
   "outputs": [],
   "source": []
  },
  {
   "cell_type": "code",
   "execution_count": null,
   "metadata": {},
   "outputs": [],
   "source": []
  },
  {
   "cell_type": "code",
   "execution_count": null,
   "metadata": {},
   "outputs": [],
   "source": []
  },
  {
   "cell_type": "code",
   "execution_count": null,
   "metadata": {},
   "outputs": [],
   "source": []
  },
  {
   "cell_type": "markdown",
   "metadata": {},
   "source": [
    "## Test Data"
   ]
  },
  {
   "cell_type": "code",
   "execution_count": 89,
   "metadata": {},
   "outputs": [],
   "source": [
    "title_columns = ['t'+str(i) for i in range(1,101)]\n",
    "headline_columns = ['h'+str(i) for i in range(1,101)]"
   ]
  },
  {
   "cell_type": "code",
   "execution_count": 85,
   "metadata": {},
   "outputs": [],
   "source": [
    "test_df = pd.read_csv('dataset/test_file.csv')"
   ]
  },
  {
   "cell_type": "code",
   "execution_count": 86,
   "metadata": {},
   "outputs": [],
   "source": [
    "test_df = pd.get_dummies(data=test_df,columns=['Topic'])"
   ]
  },
  {
   "cell_type": "code",
   "execution_count": 90,
   "metadata": {},
   "outputs": [],
   "source": [
    "test_df['title_embedding']  = test_df.apply(lambda x: sentence_embedding(x['Title']),axis=1)\n",
    "\n",
    "test_df['headline_embedding']  = test_df.apply(lambda x: sentence_embedding(x['Headline']),axis=1)"
   ]
  },
  {
   "cell_type": "code",
   "execution_count": 91,
   "metadata": {},
   "outputs": [],
   "source": [
    "title_dataframe_test = pd.DataFrame(test_df['title_embedding'].to_list(), columns = title_columns)\n",
    "headline_dataframe_test = pd.DataFrame(test_df['headline_embedding'].to_list(), columns = headline_columns)\n",
    "\n",
    "title_dataframe_test.head(1)\n",
    "\n",
    "headline_dataframe_test.head(1)\n",
    "\n",
    "df_sentiment_title_test = pd.concat([test_df[['IDLink','Facebook','GooglePlus',\n",
    "                                     'LinkedIn','Topic_economy', 'Topic_microsoft', \n",
    "                                     'Topic_obama','Topic_palestine']], title_dataframe_test], axis=1)\n",
    "\n",
    "df_sentiment_headline_test = pd.concat([test_df[['IDLink','Facebook','GooglePlus',\n",
    "                                        'LinkedIn','Topic_economy', 'Topic_microsoft',\n",
    "                                        'Topic_obama','Topic_palestine',\n",
    "                                        ]], headline_dataframe_test], axis=1)"
   ]
  },
  {
   "cell_type": "code",
   "execution_count": 92,
   "metadata": {},
   "outputs": [
    {
     "data": {
      "text/html": [
       "<div>\n",
       "<style scoped>\n",
       "    .dataframe tbody tr th:only-of-type {\n",
       "        vertical-align: middle;\n",
       "    }\n",
       "\n",
       "    .dataframe tbody tr th {\n",
       "        vertical-align: top;\n",
       "    }\n",
       "\n",
       "    .dataframe thead th {\n",
       "        text-align: right;\n",
       "    }\n",
       "</style>\n",
       "<table border=\"1\" class=\"dataframe\">\n",
       "  <thead>\n",
       "    <tr style=\"text-align: right;\">\n",
       "      <th></th>\n",
       "      <th>IDLink</th>\n",
       "      <th>Facebook</th>\n",
       "      <th>GooglePlus</th>\n",
       "      <th>LinkedIn</th>\n",
       "      <th>Topic_economy</th>\n",
       "      <th>Topic_microsoft</th>\n",
       "      <th>Topic_obama</th>\n",
       "      <th>Topic_palestine</th>\n",
       "      <th>t1</th>\n",
       "      <th>t2</th>\n",
       "      <th>...</th>\n",
       "      <th>t91</th>\n",
       "      <th>t92</th>\n",
       "      <th>t93</th>\n",
       "      <th>t94</th>\n",
       "      <th>t95</th>\n",
       "      <th>t96</th>\n",
       "      <th>t97</th>\n",
       "      <th>t98</th>\n",
       "      <th>t99</th>\n",
       "      <th>t100</th>\n",
       "    </tr>\n",
       "  </thead>\n",
       "  <tbody>\n",
       "    <tr>\n",
       "      <th>0</th>\n",
       "      <td>tFrqIR6Chj</td>\n",
       "      <td>0</td>\n",
       "      <td>0</td>\n",
       "      <td>1</td>\n",
       "      <td>1</td>\n",
       "      <td>0</td>\n",
       "      <td>0</td>\n",
       "      <td>0</td>\n",
       "      <td>0.053770</td>\n",
       "      <td>0.374439</td>\n",
       "      <td>...</td>\n",
       "      <td>-0.142073</td>\n",
       "      <td>-0.053525</td>\n",
       "      <td>-0.384578</td>\n",
       "      <td>-0.427172</td>\n",
       "      <td>-0.118124</td>\n",
       "      <td>0.646082</td>\n",
       "      <td>-0.406689</td>\n",
       "      <td>-0.159635</td>\n",
       "      <td>-0.766303</td>\n",
       "      <td>-0.409431</td>\n",
       "    </tr>\n",
       "    <tr>\n",
       "      <th>1</th>\n",
       "      <td>DVAaGErjlF</td>\n",
       "      <td>121</td>\n",
       "      <td>2</td>\n",
       "      <td>13</td>\n",
       "      <td>0</td>\n",
       "      <td>1</td>\n",
       "      <td>0</td>\n",
       "      <td>0</td>\n",
       "      <td>0.002932</td>\n",
       "      <td>-0.159017</td>\n",
       "      <td>...</td>\n",
       "      <td>-0.148194</td>\n",
       "      <td>-0.334973</td>\n",
       "      <td>-0.769728</td>\n",
       "      <td>0.217712</td>\n",
       "      <td>-0.030892</td>\n",
       "      <td>-0.663118</td>\n",
       "      <td>0.203932</td>\n",
       "      <td>-0.072182</td>\n",
       "      <td>0.404501</td>\n",
       "      <td>0.349951</td>\n",
       "    </tr>\n",
       "  </tbody>\n",
       "</table>\n",
       "<p>2 rows × 108 columns</p>\n",
       "</div>"
      ],
      "text/plain": [
       "       IDLink  Facebook  GooglePlus  LinkedIn  Topic_economy  Topic_microsoft  \\\n",
       "0  tFrqIR6Chj         0           0         1              1                0   \n",
       "1  DVAaGErjlF       121           2        13              0                1   \n",
       "\n",
       "   Topic_obama  Topic_palestine        t1        t2  ...       t91       t92  \\\n",
       "0            0                0  0.053770  0.374439  ... -0.142073 -0.053525   \n",
       "1            0                0  0.002932 -0.159017  ... -0.148194 -0.334973   \n",
       "\n",
       "        t93       t94       t95       t96       t97       t98       t99  \\\n",
       "0 -0.384578 -0.427172 -0.118124  0.646082 -0.406689 -0.159635 -0.766303   \n",
       "1 -0.769728  0.217712 -0.030892 -0.663118  0.203932 -0.072182  0.404501   \n",
       "\n",
       "       t100  \n",
       "0 -0.409431  \n",
       "1  0.349951  \n",
       "\n",
       "[2 rows x 108 columns]"
      ]
     },
     "execution_count": 92,
     "metadata": {},
     "output_type": "execute_result"
    }
   ],
   "source": [
    "df_sentiment_title_test.head(2)"
   ]
  },
  {
   "cell_type": "code",
   "execution_count": 93,
   "metadata": {},
   "outputs": [],
   "source": [
    "from sklearn.preprocessing import MinMaxScaler\n",
    "scaler = MinMaxScaler()"
   ]
  },
  {
   "cell_type": "code",
   "execution_count": 94,
   "metadata": {},
   "outputs": [
    {
     "data": {
      "text/plain": [
       "['t8',\n",
       " 't49',\n",
       " 't36',\n",
       " 't44',\n",
       " 't30',\n",
       " 't98',\n",
       " 't31',\n",
       " 't65',\n",
       " 't12',\n",
       " 't95',\n",
       " 'GooglePlus',\n",
       " 't29',\n",
       " 't34',\n",
       " 't57',\n",
       " 't64',\n",
       " 't77',\n",
       " 't27',\n",
       " 't37',\n",
       " 't5',\n",
       " 't3',\n",
       " 't94',\n",
       " 't61',\n",
       " 'Topic_obama',\n",
       " 't17',\n",
       " 't23',\n",
       " 't25',\n",
       " 't18',\n",
       " 't90',\n",
       " 't41',\n",
       " 't20',\n",
       " 'Topic_palestine',\n",
       " 't11',\n",
       " 't93',\n",
       " 't24',\n",
       " 't13',\n",
       " 't84',\n",
       " 't86',\n",
       " 't99',\n",
       " 't39',\n",
       " 't4',\n",
       " 't66',\n",
       " 't38',\n",
       " 't22',\n",
       " 't6',\n",
       " 't52',\n",
       " 't51',\n",
       " 't43',\n",
       " 't47',\n",
       " 't35',\n",
       " 't54',\n",
       " 't62',\n",
       " 't92',\n",
       " 't45',\n",
       " 't79',\n",
       " 't9',\n",
       " 't14',\n",
       " 't89',\n",
       " 't2',\n",
       " 't16',\n",
       " 't63',\n",
       " 't60',\n",
       " 't71',\n",
       " 't69',\n",
       " 't80',\n",
       " 't58',\n",
       " 't15',\n",
       " 't26',\n",
       " 't73',\n",
       " 't40',\n",
       " 't50',\n",
       " 't78',\n",
       " 't97',\n",
       " 't55',\n",
       " 't33',\n",
       " 't100',\n",
       " 't59',\n",
       " 't48',\n",
       " 't76',\n",
       " 't85',\n",
       " 't53',\n",
       " 't28',\n",
       " 't96',\n",
       " 't1',\n",
       " 't21',\n",
       " 't42',\n",
       " 't83',\n",
       " 't87',\n",
       " 't91',\n",
       " 't72',\n",
       " 't67',\n",
       " 't56',\n",
       " 't70',\n",
       " 'Topic_microsoft',\n",
       " 't32',\n",
       " 't7',\n",
       " 't68',\n",
       " 't46',\n",
       " 'Topic_economy',\n",
       " 'Facebook',\n",
       " 'LinkedIn',\n",
       " 't75',\n",
       " 't88',\n",
       " 't74',\n",
       " 't19',\n",
       " 't10',\n",
       " 't81',\n",
       " 't82']"
      ]
     },
     "execution_count": 94,
     "metadata": {},
     "output_type": "execute_result"
    }
   ],
   "source": [
    "model_title_columns"
   ]
  },
  {
   "cell_type": "code",
   "execution_count": 95,
   "metadata": {},
   "outputs": [],
   "source": [
    "df_sentiment_title_test[model_title_columns] = scaler.fit_transform(df_sentiment_title_test[model_title_columns])"
   ]
  },
  {
   "cell_type": "code",
   "execution_count": 96,
   "metadata": {},
   "outputs": [],
   "source": [
    "df_sentiment_headline_test[model_headline_columns] = scaler.fit_transform(df_sentiment_headline_test[model_headline_columns])"
   ]
  },
  {
   "cell_type": "code",
   "execution_count": 97,
   "metadata": {},
   "outputs": [
    {
     "data": {
      "text/html": [
       "<div>\n",
       "<style scoped>\n",
       "    .dataframe tbody tr th:only-of-type {\n",
       "        vertical-align: middle;\n",
       "    }\n",
       "\n",
       "    .dataframe tbody tr th {\n",
       "        vertical-align: top;\n",
       "    }\n",
       "\n",
       "    .dataframe thead th {\n",
       "        text-align: right;\n",
       "    }\n",
       "</style>\n",
       "<table border=\"1\" class=\"dataframe\">\n",
       "  <thead>\n",
       "    <tr style=\"text-align: right;\">\n",
       "      <th></th>\n",
       "      <th>IDLink</th>\n",
       "      <th>Facebook</th>\n",
       "      <th>GooglePlus</th>\n",
       "      <th>LinkedIn</th>\n",
       "      <th>Topic_economy</th>\n",
       "      <th>Topic_microsoft</th>\n",
       "      <th>Topic_obama</th>\n",
       "      <th>Topic_palestine</th>\n",
       "      <th>h1</th>\n",
       "      <th>h2</th>\n",
       "      <th>...</th>\n",
       "      <th>h91</th>\n",
       "      <th>h92</th>\n",
       "      <th>h93</th>\n",
       "      <th>h94</th>\n",
       "      <th>h95</th>\n",
       "      <th>h96</th>\n",
       "      <th>h97</th>\n",
       "      <th>h98</th>\n",
       "      <th>h99</th>\n",
       "      <th>h100</th>\n",
       "    </tr>\n",
       "  </thead>\n",
       "  <tbody>\n",
       "    <tr>\n",
       "      <th>0</th>\n",
       "      <td>tFrqIR6Chj</td>\n",
       "      <td>0.00006</td>\n",
       "      <td>0.000983</td>\n",
       "      <td>0.000098</td>\n",
       "      <td>1.0</td>\n",
       "      <td>0.0</td>\n",
       "      <td>0.0</td>\n",
       "      <td>0.0</td>\n",
       "      <td>0.513054</td>\n",
       "      <td>0.472679</td>\n",
       "      <td>...</td>\n",
       "      <td>0.657906</td>\n",
       "      <td>0.553308</td>\n",
       "      <td>0.761493</td>\n",
       "      <td>0.483861</td>\n",
       "      <td>0.540019</td>\n",
       "      <td>0.735562</td>\n",
       "      <td>0.493735</td>\n",
       "      <td>0.487695</td>\n",
       "      <td>0.624143</td>\n",
       "      <td>0.249772</td>\n",
       "    </tr>\n",
       "    <tr>\n",
       "      <th>1</th>\n",
       "      <td>DVAaGErjlF</td>\n",
       "      <td>0.00735</td>\n",
       "      <td>0.002950</td>\n",
       "      <td>0.000688</td>\n",
       "      <td>0.0</td>\n",
       "      <td>1.0</td>\n",
       "      <td>0.0</td>\n",
       "      <td>0.0</td>\n",
       "      <td>0.554669</td>\n",
       "      <td>0.359753</td>\n",
       "      <td>...</td>\n",
       "      <td>0.714427</td>\n",
       "      <td>0.447673</td>\n",
       "      <td>0.494234</td>\n",
       "      <td>0.402271</td>\n",
       "      <td>0.508263</td>\n",
       "      <td>0.518869</td>\n",
       "      <td>0.557427</td>\n",
       "      <td>0.529298</td>\n",
       "      <td>0.721145</td>\n",
       "      <td>0.291542</td>\n",
       "    </tr>\n",
       "  </tbody>\n",
       "</table>\n",
       "<p>2 rows × 108 columns</p>\n",
       "</div>"
      ],
      "text/plain": [
       "       IDLink  Facebook  GooglePlus  LinkedIn  Topic_economy  Topic_microsoft  \\\n",
       "0  tFrqIR6Chj   0.00006    0.000983  0.000098            1.0              0.0   \n",
       "1  DVAaGErjlF   0.00735    0.002950  0.000688            0.0              1.0   \n",
       "\n",
       "   Topic_obama  Topic_palestine        h1        h2  ...       h91       h92  \\\n",
       "0          0.0              0.0  0.513054  0.472679  ...  0.657906  0.553308   \n",
       "1          0.0              0.0  0.554669  0.359753  ...  0.714427  0.447673   \n",
       "\n",
       "        h93       h94       h95       h96       h97       h98       h99  \\\n",
       "0  0.761493  0.483861  0.540019  0.735562  0.493735  0.487695  0.624143   \n",
       "1  0.494234  0.402271  0.508263  0.518869  0.557427  0.529298  0.721145   \n",
       "\n",
       "       h100  \n",
       "0  0.249772  \n",
       "1  0.291542  \n",
       "\n",
       "[2 rows x 108 columns]"
      ]
     },
     "execution_count": 97,
     "metadata": {},
     "output_type": "execute_result"
    }
   ],
   "source": [
    "df_sentiment_headline_test.head(2)"
   ]
  },
  {
   "cell_type": "code",
   "execution_count": 99,
   "metadata": {},
   "outputs": [
    {
     "name": "stderr",
     "output_type": "stream",
     "text": [
      "[Parallel(n_jobs=1)]: Using backend SequentialBackend with 1 concurrent workers.\n",
      "[Parallel(n_jobs=1)]: Done   1 out of   1 | elapsed:    0.0s remaining:    0.0s\n",
      "[Parallel(n_jobs=1)]: Done 100 out of 100 | elapsed:    0.4s finished\n"
     ]
    },
    {
     "data": {
      "text/plain": [
       "array([-0.05667924, -0.01183426, -0.03487739, ..., -0.00413778,\n",
       "       -0.01062017, -0.01150855])"
      ]
     },
     "execution_count": 99,
     "metadata": {},
     "output_type": "execute_result"
    }
   ],
   "source": [
    "rf.predict(df_sentiment_title_test[model_title_columns])"
   ]
  },
  {
   "cell_type": "code",
   "execution_count": 110,
   "metadata": {},
   "outputs": [
    {
     "name": "stderr",
     "output_type": "stream",
     "text": [
      "[Parallel(n_jobs=1)]: Using backend SequentialBackend with 1 concurrent workers.\n",
      "[Parallel(n_jobs=1)]: Done   1 out of   1 | elapsed:    0.0s remaining:    0.0s\n",
      "[Parallel(n_jobs=1)]: Done 100 out of 100 | elapsed:    0.4s finished\n"
     ]
    },
    {
     "data": {
      "text/plain": [
       "array([-0.01778248, -0.05792901, -0.07004754, ..., -0.01026592,\n",
       "       -0.04722526, -0.04763362])"
      ]
     },
     "execution_count": 110,
     "metadata": {},
     "output_type": "execute_result"
    }
   ],
   "source": [
    "rf_headline.predict(df_sentiment_headline_test[model_headline_columns])"
   ]
  },
  {
   "cell_type": "code",
   "execution_count": null,
   "metadata": {},
   "outputs": [],
   "source": []
  }
 ],
 "metadata": {
  "kernelspec": {
   "display_name": "Python 3",
   "language": "python",
   "name": "python3"
  },
  "language_info": {
   "codemirror_mode": {
    "name": "ipython",
    "version": 3
   },
   "file_extension": ".py",
   "mimetype": "text/x-python",
   "name": "python",
   "nbconvert_exporter": "python",
   "pygments_lexer": "ipython3",
   "version": "3.8.5"
  }
 },
 "nbformat": 4,
 "nbformat_minor": 2
}
